{
 "cells": [
  {
   "cell_type": "markdown",
   "id": "f33cae43-7537-4961-9fd6-4e74774dc334",
   "metadata": {
    "tags": []
   },
   "source": [
    "# Data Science Tools and Ecosystem\n",
    "\n",
    "## In this notebook, Data Science Tools and Ecosystem are summarized.\n",
    "\n",
    "## Some of the popular languages that Data Scientists use are:\n",
    "\n",
    "- Python\n",
    "- R\n",
    "- SQL\n",
    "\n",
    "## Some of the commonly used libraries used by Data Scientists include:\n",
    "\n",
    "- NumPy\n",
    "- pandas\n",
    "- Matplotlib\n",
    "\n",
    "\n",
    "|Data Science Tools |\n",
    "|-------------------|\n",
    "|Rstudio |\n",
    "|GIT |\n",
    "|Anaconda |\n",
    "\n",
    "\n",
    "### Below are a few examples of evaluating arithmetic expressions in Python\n",
    "\n",
    "\n",
    "\n"
   ]
  },
  {
   "cell_type": "code",
   "execution_count": 7,
   "id": "5c2a5f09-7a1b-4227-9369-d2ce7cf7a476",
   "metadata": {
    "tags": []
   },
   "outputs": [
    {
     "data": {
      "text/html": [
       "17"
      ],
      "text/latex": [
       "17"
      ],
      "text/markdown": [
       "17"
      ],
      "text/plain": [
       "[1] 17"
      ]
     },
     "metadata": {},
     "output_type": "display_data"
    }
   ],
   "source": [
    "# This a simple arithmetic expression to mutiply then add integers.\n",
    "\n",
    " (3*4)+5\n"
   ]
  },
  {
   "cell_type": "code",
   "execution_count": 8,
   "id": "f3990a4b-c835-4d19-9b84-8455efacba60",
   "metadata": {
    "tags": []
   },
   "outputs": [
    {
     "data": {
      "text/html": [
       "3.33333333333333"
      ],
      "text/latex": [
       "3.33333333333333"
      ],
      "text/markdown": [
       "3.33333333333333"
      ],
      "text/plain": [
       "[1] 3.333333"
      ]
     },
     "metadata": {},
     "output_type": "display_data"
    }
   ],
   "source": [
    "# This will convert 200 minutes to hours by diving by 60\n",
    "\n",
    "200/60"
   ]
  },
  {
   "cell_type": "markdown",
   "id": "7c2157f1-69dd-405e-abff-3208d680366d",
   "metadata": {},
   "source": [
    "# **Objectives:**\n",
    "\n",
    "### List popular languages for Data Science\n",
    "\n",
    "- python\n",
    "- R\n",
    "- Java\n",
    "- SAS"
   ]
  },
  {
   "cell_type": "markdown",
   "id": "0b268c60-d2ed-46f1-8b5e-88e03acbb14a",
   "metadata": {
    "tags": []
   },
   "source": [
    "## **Author:** \n",
    "Shantaram Pai"
   ]
  },
  {
   "cell_type": "code",
   "execution_count": null,
   "id": "9cc0766b-2609-4b51-935f-00e04e633e23",
   "metadata": {},
   "outputs": [],
   "source": []
  }
 ],
 "metadata": {
  "kernelspec": {
   "display_name": "R",
   "language": "R",
   "name": "conda-env-r-r"
  },
  "language_info": {
   "codemirror_mode": "r",
   "file_extension": ".r",
   "mimetype": "text/x-r-source",
   "name": "R",
   "pygments_lexer": "r",
   "version": "3.5.1"
  }
 },
 "nbformat": 4,
 "nbformat_minor": 5
}
